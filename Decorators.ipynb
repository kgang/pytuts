{
 "cells": [
  {
   "cell_type": "markdown",
   "metadata": {},
   "source": [
    "# Background\n",
    "Alan Turing and Alonzo Church created models of computation around the same time in the 1930s. Turing's machines are based on a strip of tape while Church's lambda calculus is based on functions. The former is reminiscent of object oriented programming while the latter is a functional programming model. Turing showed that both models are equivalent in showing the power of computers generally.\n",
    "\n",
    "As such, languages as different as Java and Lisp are *mathematically equivalent* in their capability, given infinite memory and computing power.\n",
    "\n",
    "For modern programmers, understanding the different modes of programming in a object oriented or functional capacity, can be invaluable in catering to the natural intuition of our minds to solve problems. At times, it's easier to imagine the 'state' of a machine, its memory, and how to transform data from beginning to end. At other times, it's useful to focus on the actions and verbs we enable a computer to execute.\n",
    "\n",
    "Decorators are a functional programming tool built into Python to more easily modify functions. They are visually distinct in Python and can seem superfluous at first, but like any piece of syntax, can be a powerful tool that simplifies the readability and logic of a program. \n",
    "\n",
    "---"
   ]
  },
  {
   "cell_type": "markdown",
   "metadata": {},
   "source": [
    "# Motivation"
   ]
  },
  {
   "cell_type": "code",
   "execution_count": 1,
   "metadata": {},
   "outputs": [],
   "source": [
    "def f():\n",
    "    print('Hello World!')"
   ]
  },
  {
   "cell_type": "code",
   "execution_count": 2,
   "metadata": {},
   "outputs": [
    {
     "name": "stdout",
     "output_type": "stream",
     "text": [
      "Hello World!\n"
     ]
    }
   ],
   "source": [
    "#f is stand-in for some function.\n",
    "#Here it print's out 'Hello World!'\n",
    "f()"
   ]
  },
  {
   "cell_type": "code",
   "execution_count": 3,
   "metadata": {},
   "outputs": [
    {
     "name": "stdout",
     "output_type": "stream",
     "text": [
      "Hello World!\n",
      "Hello World!\n"
     ]
    }
   ],
   "source": [
    "#We might be interested in modifying the function in some way.\n",
    "#For example, executing it twice.\n",
    "f()\n",
    "f()"
   ]
  },
  {
   "cell_type": "code",
   "execution_count": 4,
   "metadata": {},
   "outputs": [
    {
     "name": "stdout",
     "output_type": "stream",
     "text": [
      "Hello World!\n",
      "Hello World!\n"
     ]
    }
   ],
   "source": [
    "#Alternatively, we could write a second function which is defined\n",
    "#to execute the first function twice.\n",
    "def double_f():\n",
    "    f()\n",
    "    f()\n",
    "double_f()"
   ]
  },
  {
   "cell_type": "code",
   "execution_count": 5,
   "metadata": {},
   "outputs": [
    {
     "name": "stdout",
     "output_type": "stream",
     "text": [
      "Hello World!\n",
      "Hello World!\n"
     ]
    }
   ],
   "source": [
    "#This isn't great because now we have two functions that need to be kept\n",
    "#accounted for.\n",
    "#Alternatively, since Python functions are first-class objects that can be\n",
    "#passed into other functions, we may modify g to accept another function\n",
    "#as an argument.\n",
    "def doubler1(func):\n",
    "    func()\n",
    "    func()\n",
    "    pass\n",
    "doubler1(f)"
   ]
  },
  {
   "cell_type": "code",
   "execution_count": 6,
   "metadata": {},
   "outputs": [
    {
     "name": "stdout",
     "output_type": "stream",
     "text": [
      "Hello World!\n",
      "Hello World!\n"
     ]
    }
   ],
   "source": [
    "#This might suffice if we're comfortable calling f inside of g2\n",
    "#everytime we wanted this behavior.\n",
    "#We might also want to modify the behavior of the function without calling\n",
    "#it right then.\n",
    "#Making a small adjustment, we can achieve the same behavior of modifying \n",
    "#f by having the modifier output the modified function rather.\n",
    "def doubler2(func):\n",
    "    def doubler():\n",
    "        func()\n",
    "        func()\n",
    "    return doubler\n",
    "f2 = doubler2(f)\n",
    "f2()"
   ]
  },
  {
   "cell_type": "code",
   "execution_count": 7,
   "metadata": {},
   "outputs": [
    {
     "name": "stdout",
     "output_type": "stream",
     "text": [
      "Good night, world!\n",
      "Good night, world!\n"
     ]
    }
   ],
   "source": [
    "#This brings us back to the same problem of having two functions g3 and f \n",
    "#cluttering our namespace.\n",
    "#Still, g3 has the added benefit of allowing us to modify newly written\n",
    "#functions.\n",
    "def h():\n",
    "    print('Good night, world!')\n",
    "h2 = doubler2(h)\n",
    "h2()"
   ]
  },
  {
   "cell_type": "markdown",
   "metadata": {},
   "source": [
    "---\n",
    "# Decorators"
   ]
  },
  {
   "cell_type": "code",
   "execution_count": 8,
   "metadata": {},
   "outputs": [
    {
     "name": "stdout",
     "output_type": "stream",
     "text": [
      "*\n",
      "**\n",
      "***\n",
      "zzz\n",
      "zz\n",
      "z\n",
      "zzz\n",
      "zz\n",
      "z\n"
     ]
    }
   ],
   "source": [
    "#Decorators are functions which modify other functions without\n",
    "#having to define an intermediary function like g or g2 above.\n",
    "def star_triangle(char='*', n=3):\n",
    "    for i in range(n):\n",
    "        print(char*(i+1))\n",
    "    pass\n",
    "\n",
    "#Decorated version\n",
    "@doubler2\n",
    "def z_triangle(char='z', n=3):\n",
    "    for i in reversed(range(n)):\n",
    "        print(char*(i+1))\n",
    "    pass\n",
    "\n",
    "star_triangle()\n",
    "z_triangle()"
   ]
  },
  {
   "cell_type": "code",
   "execution_count": 9,
   "metadata": {},
   "outputs": [
    {
     "name": "stdout",
     "output_type": "stream",
     "text": [
      "*\n",
      "**\n",
      "***\n",
      "*\n",
      "**\n",
      "***\n"
     ]
    }
   ],
   "source": [
    "#As you might have noticed, z_triangle is being run twice.\n",
    "#Adding the decorator above the function definition is the\n",
    "#equivalent of overwriting the original function name with the \n",
    "#output of the decorator.\n",
    "star_triangle = doubler2(star_triangle)\n",
    "star_triangle()"
   ]
  },
  {
   "cell_type": "code",
   "execution_count": 10,
   "metadata": {},
   "outputs": [
    {
     "name": "stdout",
     "output_type": "stream",
     "text": [
      "Normal execution\n",
      "****\n",
      "****\n",
      "****\n",
      "5x5 square execution with argument\n",
      "******\n",
      "******\n",
      "******\n",
      "******\n",
      "******\n"
     ]
    }
   ],
   "source": [
    "#Note that while doubler1 gives a doubled *output*, doubler2 gives a\n",
    "#doubled *function*.\n",
    "#It's a small and subtle distinction, but it highlights an issue once\n",
    "#we start passing arguments into the modified function\n",
    "def star_square(char='*', n=3):\n",
    "    for i in range(n):\n",
    "        print(char*(n+1))\n",
    "    pass\n",
    "print('Normal execution')\n",
    "star_square()\n",
    "print('5x5 square execution with argument')\n",
    "star_square(n=5)"
   ]
  },
  {
   "cell_type": "code",
   "execution_count": 11,
   "metadata": {},
   "outputs": [
    {
     "name": "stdout",
     "output_type": "stream",
     "text": [
      "******\n",
      "******\n",
      "******\n",
      "******\n",
      "******\n"
     ]
    },
    {
     "ename": "TypeError",
     "evalue": "'NoneType' object is not callable",
     "output_type": "error",
     "traceback": [
      "\u001b[0;31m---------------------------------------------------------------------------\u001b[0m",
      "\u001b[0;31mTypeError\u001b[0m                                 Traceback (most recent call last)",
      "\u001b[0;32m<ipython-input-11-c77abdc7070a>\u001b[0m in \u001b[0;36m<module>\u001b[0;34m\u001b[0m\n\u001b[1;32m      1\u001b[0m \u001b[0;31m#Errors out\u001b[0m\u001b[0;34m\u001b[0m\u001b[0;34m\u001b[0m\u001b[0;34m\u001b[0m\u001b[0m\n\u001b[0;32m----> 2\u001b[0;31m \u001b[0mdoubler1\u001b[0m\u001b[0;34m(\u001b[0m\u001b[0mstar_square\u001b[0m\u001b[0;34m(\u001b[0m\u001b[0mn\u001b[0m\u001b[0;34m=\u001b[0m\u001b[0;36m5\u001b[0m\u001b[0;34m)\u001b[0m\u001b[0;34m)\u001b[0m\u001b[0;34m\u001b[0m\u001b[0;34m\u001b[0m\u001b[0m\n\u001b[0m",
      "\u001b[0;32m<ipython-input-5-2aeb52e1be40>\u001b[0m in \u001b[0;36mdoubler1\u001b[0;34m(func)\u001b[0m\n\u001b[1;32m      5\u001b[0m \u001b[0;31m#as an argument.\u001b[0m\u001b[0;34m\u001b[0m\u001b[0;34m\u001b[0m\u001b[0;34m\u001b[0m\u001b[0m\n\u001b[1;32m      6\u001b[0m \u001b[0;32mdef\u001b[0m \u001b[0mdoubler1\u001b[0m\u001b[0;34m(\u001b[0m\u001b[0mfunc\u001b[0m\u001b[0;34m)\u001b[0m\u001b[0;34m:\u001b[0m\u001b[0;34m\u001b[0m\u001b[0;34m\u001b[0m\u001b[0m\n\u001b[0;32m----> 7\u001b[0;31m     \u001b[0mfunc\u001b[0m\u001b[0;34m(\u001b[0m\u001b[0;34m)\u001b[0m\u001b[0;34m\u001b[0m\u001b[0;34m\u001b[0m\u001b[0m\n\u001b[0m\u001b[1;32m      8\u001b[0m     \u001b[0mfunc\u001b[0m\u001b[0;34m(\u001b[0m\u001b[0;34m)\u001b[0m\u001b[0;34m\u001b[0m\u001b[0;34m\u001b[0m\u001b[0m\n\u001b[1;32m      9\u001b[0m     \u001b[0;32mpass\u001b[0m\u001b[0;34m\u001b[0m\u001b[0;34m\u001b[0m\u001b[0m\n",
      "\u001b[0;31mTypeError\u001b[0m: 'NoneType' object is not callable"
     ]
    }
   ],
   "source": [
    "#Errors out\n",
    "doubler1(star_square(n=5))"
   ]
  },
  {
   "cell_type": "code",
   "execution_count": 12,
   "metadata": {},
   "outputs": [
    {
     "name": "stdout",
     "output_type": "stream",
     "text": [
      "******\n",
      "******\n",
      "******\n",
      "******\n",
      "******\n"
     ]
    },
    {
     "ename": "TypeError",
     "evalue": "'NoneType' object is not callable",
     "output_type": "error",
     "traceback": [
      "\u001b[0;31m---------------------------------------------------------------------------\u001b[0m",
      "\u001b[0;31mTypeError\u001b[0m                                 Traceback (most recent call last)",
      "\u001b[0;32m<ipython-input-12-aff44068fb84>\u001b[0m in \u001b[0;36m<module>\u001b[0;34m\u001b[0m\n\u001b[1;32m      1\u001b[0m \u001b[0;31m#Also errors\u001b[0m\u001b[0;34m\u001b[0m\u001b[0;34m\u001b[0m\u001b[0;34m\u001b[0m\u001b[0m\n\u001b[0;32m----> 2\u001b[0;31m \u001b[0mdoubler2\u001b[0m\u001b[0;34m(\u001b[0m\u001b[0mstar_square\u001b[0m\u001b[0;34m(\u001b[0m\u001b[0mn\u001b[0m\u001b[0;34m=\u001b[0m\u001b[0;36m5\u001b[0m\u001b[0;34m)\u001b[0m\u001b[0;34m)\u001b[0m\u001b[0;34m(\u001b[0m\u001b[0;34m)\u001b[0m\u001b[0;34m\u001b[0m\u001b[0;34m\u001b[0m\u001b[0m\n\u001b[0m",
      "\u001b[0;32m<ipython-input-6-a7145531510f>\u001b[0m in \u001b[0;36mdoubler\u001b[0;34m()\u001b[0m\n\u001b[1;32m      7\u001b[0m \u001b[0;32mdef\u001b[0m \u001b[0mdoubler2\u001b[0m\u001b[0;34m(\u001b[0m\u001b[0mfunc\u001b[0m\u001b[0;34m)\u001b[0m\u001b[0;34m:\u001b[0m\u001b[0;34m\u001b[0m\u001b[0;34m\u001b[0m\u001b[0m\n\u001b[1;32m      8\u001b[0m     \u001b[0;32mdef\u001b[0m \u001b[0mdoubler\u001b[0m\u001b[0;34m(\u001b[0m\u001b[0;34m)\u001b[0m\u001b[0;34m:\u001b[0m\u001b[0;34m\u001b[0m\u001b[0;34m\u001b[0m\u001b[0m\n\u001b[0;32m----> 9\u001b[0;31m         \u001b[0mfunc\u001b[0m\u001b[0;34m(\u001b[0m\u001b[0;34m)\u001b[0m\u001b[0;34m\u001b[0m\u001b[0;34m\u001b[0m\u001b[0m\n\u001b[0m\u001b[1;32m     10\u001b[0m         \u001b[0mfunc\u001b[0m\u001b[0;34m(\u001b[0m\u001b[0;34m)\u001b[0m\u001b[0;34m\u001b[0m\u001b[0;34m\u001b[0m\u001b[0m\n\u001b[1;32m     11\u001b[0m     \u001b[0;32mreturn\u001b[0m \u001b[0mdoubler\u001b[0m\u001b[0;34m\u001b[0m\u001b[0;34m\u001b[0m\u001b[0m\n",
      "\u001b[0;31mTypeError\u001b[0m: 'NoneType' object is not callable"
     ]
    }
   ],
   "source": [
    "#Also errors\n",
    "doubler2(star_square(n=5))()"
   ]
  },
  {
   "cell_type": "code",
   "execution_count": 14,
   "metadata": {},
   "outputs": [
    {
     "name": "stdout",
     "output_type": "stream",
     "text": [
      "******\n",
      "******\n",
      "******\n",
      "******\n",
      "******\n",
      "******\n",
      "******\n",
      "******\n",
      "******\n",
      "******\n",
      "star star star star star star \n",
      "star star star star star star \n",
      "star star star star star star \n",
      "star star star star star star \n",
      "star star star star star star \n",
      "star star star star star star \n",
      "star star star star star star \n",
      "star star star star star star \n",
      "star star star star star star \n",
      "star star star star star star \n"
     ]
    }
   ],
   "source": [
    "#The explanation is that our doubler functions are expecting a function\n",
    "#as an input, but by providing an argument to our triangle functions\n",
    "#we are passing its output, a string, into doubler.\n",
    "#When python tries to execute a string, it errors out because that\n",
    "#doesn't make sense.\n",
    "#Using partial is a workaround, but less than ideal when our goal was\n",
    "#to simplify our syntax rather than making it more obtuse.\n",
    "from functools import partial\n",
    "doubler1(partial(star_square, n=5))\n",
    "#Alternate\n",
    "doubler2(partial(star_square, char='star ', n=5))()"
   ]
  },
  {
   "cell_type": "markdown",
   "metadata": {},
   "source": [
    "---\n",
    "# Writing Robust Decorators"
   ]
  },
  {
   "cell_type": "code",
   "execution_count": 15,
   "metadata": {},
   "outputs": [
    {
     "ename": "TypeError",
     "evalue": "doubler() got an unexpected keyword argument 'char'",
     "output_type": "error",
     "traceback": [
      "\u001b[0;31m---------------------------------------------------------------------------\u001b[0m",
      "\u001b[0;31mTypeError\u001b[0m                                 Traceback (most recent call last)",
      "\u001b[0;32m<ipython-input-15-b4d1332b9fa6>\u001b[0m in \u001b[0;36m<module>\u001b[0;34m\u001b[0m\n\u001b[1;32m      1\u001b[0m \u001b[0;31m#Our decorators so far haven't been written to pass through arguments.\u001b[0m\u001b[0;34m\u001b[0m\u001b[0;34m\u001b[0m\u001b[0;34m\u001b[0m\u001b[0m\n\u001b[0;32m----> 2\u001b[0;31m \u001b[0mz_triangle\u001b[0m\u001b[0;34m(\u001b[0m\u001b[0mchar\u001b[0m\u001b[0;34m=\u001b[0m\u001b[0;34m'zee'\u001b[0m\u001b[0;34m)\u001b[0m\u001b[0;34m\u001b[0m\u001b[0;34m\u001b[0m\u001b[0m\n\u001b[0m",
      "\u001b[0;31mTypeError\u001b[0m: doubler() got an unexpected keyword argument 'char'"
     ]
    }
   ],
   "source": [
    "#Our decorators so far haven't been written to pass through arguments.\n",
    "z_triangle(char='zee')"
   ]
  },
  {
   "cell_type": "code",
   "execution_count": 16,
   "metadata": {},
   "outputs": [
    {
     "name": "stdout",
     "output_type": "stream",
     "text": [
      "Normal execution\n",
      "zzz\n",
      "zzz\n",
      "zzz\n",
      "zzz\n",
      "zzz\n",
      "zzz\n",
      "Modified execution\n",
      "zeezeezee\n",
      "zeezeezee\n",
      "zeezeezee\n",
      "zeezeezee\n",
      "zeezeezee\n",
      "zeezeezee\n"
     ]
    }
   ],
   "source": [
    "#Furthermore, when executing z_triangle, it's doubler, hardcoded into\n",
    "#the decorator, that's erroring out rather than z_triangle itself.\n",
    "#This gives us the clue we need.\n",
    "#Although it seems like we are passing an argument into the z_triangle,\n",
    "#the decorator has modified z_triangle and overwritten it with doubler.\n",
    "#Since doubler is written without arguments, it doesn't know what to do!\n",
    "\n",
    "#Solution\n",
    "def robust_doubler(func):\n",
    "    def doubler(*args, **kwargs):\n",
    "        func(*args, **kwargs)\n",
    "        func(*args, **kwargs)\n",
    "    return doubler\n",
    "\n",
    "@robust_doubler\n",
    "def z_square(char='z', n=3):\n",
    "    for i in range(n):\n",
    "        print(char*(n))\n",
    "        \n",
    "print('Normal execution')\n",
    "z_square()\n",
    "print('Modified execution')\n",
    "z_square(char='zee')"
   ]
  },
  {
   "cell_type": "code",
   "execution_count": 17,
   "metadata": {},
   "outputs": [
    {
     "data": {
      "text/plain": [
       "'doubler'"
      ]
     },
     "execution_count": 17,
     "metadata": {},
     "output_type": "execute_result"
    }
   ],
   "source": [
    "#That's better.\n",
    "#Still, the properties of z_square aren't what we might expect.\n",
    "z_square.__name__"
   ]
  },
  {
   "cell_type": "code",
   "execution_count": 18,
   "metadata": {},
   "outputs": [
    {
     "name": "stdout",
     "output_type": "stream",
     "text": [
      "ooo\n",
      "ooo\n",
      "ooo\n",
      "ooo\n",
      "ooo\n",
      "ooo\n",
      "Oh Oh Oh \n",
      "Oh Oh Oh \n",
      "Oh Oh Oh \n",
      "Oh Oh Oh \n",
      "Oh Oh Oh \n",
      "Oh Oh Oh \n"
     ]
    },
    {
     "data": {
      "text/plain": [
       "'o_square'"
      ]
     },
     "execution_count": 18,
     "metadata": {},
     "output_type": "execute_result"
    }
   ],
   "source": [
    "#Best practice would be to have our decorator transfer the properties\n",
    "#of the original function along with modifying its behavior.\n",
    "#Thankfully, there's a function in functools called wraps that that'll\n",
    "#change the name, docstring, and module to that of the original function.\n",
    "from functools import wraps\n",
    "def robust_doubler_w_wraps(func):\n",
    "    @wraps(func)\n",
    "    def doubler(*args, **kwargs):\n",
    "        func(*args, **kwargs)\n",
    "        func(*args, **kwargs)\n",
    "    return doubler\n",
    "\n",
    "@robust_doubler_w_wraps\n",
    "def o_square(char='o', n=3):\n",
    "    for i in range(n):\n",
    "        print(char*n)\n",
    "        \n",
    "o_square()\n",
    "o_square(char='Oh ')\n",
    "o_square.__name__"
   ]
  },
  {
   "cell_type": "markdown",
   "metadata": {},
   "source": [
    "---\n",
    "# Bonus: Decorator with arguments"
   ]
  },
  {
   "cell_type": "code",
   "execution_count": 19,
   "metadata": {},
   "outputs": [
    {
     "name": "stdout",
     "output_type": "stream",
     "text": [
      "Yo\n",
      "Yo\n",
      "Yo\n",
      "Yo\n",
      "Yo\n"
     ]
    },
    {
     "data": {
      "text/plain": [
       "'This is a doc string.'"
      ]
     },
     "execution_count": 19,
     "metadata": {},
     "output_type": "execute_result"
    }
   ],
   "source": [
    "#Decorators can also except arguments.\n",
    "#Try to figure out what's going on by modifying the code.\n",
    "def robust_repeater(n=3):\n",
    "    def inner_decorator(func):\n",
    "        @wraps(func)\n",
    "        def repeated_func(*args, **kwargs):\n",
    "            for i in range(n):\n",
    "                func(*args, **kwargs)\n",
    "        return repeated_func\n",
    "    return inner_decorator\n",
    "            \n",
    "\n",
    "@robust_repeater(n=5)\n",
    "def foo(msg):\n",
    "    \"\"\"This is a doc string.\"\"\"\n",
    "    print(msg)\n",
    "    pass\n",
    "    \n",
    "foo('Yo')\n",
    "foo.__doc__"
   ]
  }
 ],
 "metadata": {
  "kernelspec": {
   "display_name": "Python 3",
   "language": "python",
   "name": "python3"
  },
  "language_info": {
   "codemirror_mode": {
    "name": "ipython",
    "version": 3
   },
   "file_extension": ".py",
   "mimetype": "text/x-python",
   "name": "python",
   "nbconvert_exporter": "python",
   "pygments_lexer": "ipython3",
   "version": "3.7.3"
  }
 },
 "nbformat": 4,
 "nbformat_minor": 2
}
